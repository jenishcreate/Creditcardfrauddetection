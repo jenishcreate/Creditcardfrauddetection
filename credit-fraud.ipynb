{
 "cells": [
  {
   "cell_type": "code",
   "execution_count": null,
   "id": "d4bba61f-af59-4956-92af-5148dd6a3dd1",
   "metadata": {},
   "outputs": [],
   "source": [
    "import pandas as pd\n",
    "data = pd.read_csv(\"creditcard.csv\")"
   ]
  },
  {
   "cell_type": "code",
   "execution_count": null,
   "id": "6541c740-dfe0-47de-977f-042b18030533",
   "metadata": {},
   "outputs": [],
   "source": [
    "data.head()"
   ]
  },
  {
   "cell_type": "code",
   "execution_count": null,
   "id": "2e2d5f7f-209c-41df-8271-075bd1ecd107",
   "metadata": {},
   "outputs": [],
   "source": [
    "pd.options.display.max_columns = None\n",
    "data.head()"
   ]
  },
  {
   "cell_type": "code",
   "execution_count": null,
   "id": "8658c068-41a1-4894-acd5-61f73e523cb6",
   "metadata": {},
   "outputs": [],
   "source": [
    "data.tail()"
   ]
  },
  {
   "cell_type": "code",
   "execution_count": null,
   "id": "287b00cd-ff71-4449-b62d-1c384fea326c",
   "metadata": {},
   "outputs": [],
   "source": [
    "data.shape"
   ]
  },
  {
   "cell_type": "code",
   "execution_count": null,
   "id": "5e388fe3-1b24-46e6-b2cf-d1e7c155d5b8",
   "metadata": {},
   "outputs": [],
   "source": [
    "print(\"Number of columns : {}\".format(data.shape[1]))\n",
    "print(\"Number of rows : {}\".format(data.shape[0]))"
   ]
  },
  {
   "cell_type": "code",
   "execution_count": null,
   "id": "c00c9630-8dec-4b12-bc71-2b1202ad9ac2",
   "metadata": {},
   "outputs": [],
   "source": [
    "data.info()"
   ]
  },
  {
   "cell_type": "code",
   "execution_count": null,
   "id": "fab0573a-9410-43e8-a79d-f5e399fc54f2",
   "metadata": {},
   "outputs": [],
   "source": [
    "data.isnull().sum()"
   ]
  },
  {
   "cell_type": "code",
   "execution_count": null,
   "id": "1d0afca0-3100-4975-9105-7be58ea11c6f",
   "metadata": {},
   "outputs": [],
   "source": [
    "#value of data converting in the range of 0 to 1 \n",
    "#because some where in amount column the value is quiet high and some where queit small \n",
    "from sklearn.preprocessing import StandardScaler\n",
    "sc = StandardScaler()\n",
    "data['Amount'] = sc.fit_transform(pd.DataFrame(data['Amount']))"
   ]
  },
  {
   "cell_type": "code",
   "execution_count": null,
   "id": "3a31cc6b-c585-490c-8a60-d375d5a7518e",
   "metadata": {},
   "outputs": [],
   "source": [
    "data['Amount'].tail()"
   ]
  },
  {
   "cell_type": "code",
   "execution_count": null,
   "id": "fc44b5c7-da58-4095-9a54-77d215444735",
   "metadata": {},
   "outputs": [],
   "source": [
    "data = data.drop(['Time'],axis=1)"
   ]
  },
  {
   "cell_type": "code",
   "execution_count": null,
   "id": "b5a55ae1-7d36-4421-bc52-c31e3d7771bf",
   "metadata": {},
   "outputs": [],
   "source": [
    "data.head()"
   ]
  },
  {
   "cell_type": "code",
   "execution_count": null,
   "id": "1e4a4983-9ce6-4cd6-848a-c50fd86ba5a5",
   "metadata": {},
   "outputs": [],
   "source": [
    "data.duplicated().any()"
   ]
  },
  {
   "cell_type": "code",
   "execution_count": null,
   "id": "ff54637c-2970-4735-9175-98f363816732",
   "metadata": {},
   "outputs": [],
   "source": [
    "data = data.drop_duplicates()"
   ]
  },
  {
   "cell_type": "code",
   "execution_count": null,
   "id": "f9fde836-8287-438b-a2a6-47ff183d23fc",
   "metadata": {},
   "outputs": [],
   "source": [
    "data.shape"
   ]
  },
  {
   "cell_type": "code",
   "execution_count": null,
   "id": "c9de6d0c-21f9-4d2b-a63e-324eeb4ab0d5",
   "metadata": {},
   "outputs": [],
   "source": [
    "#balance or not\n",
    "data['Class'].value_counts()"
   ]
  },
  {
   "cell_type": "code",
   "execution_count": null,
   "id": "0c40df60-2605-4ae0-9a1e-ac4c129c0779",
   "metadata": {},
   "outputs": [],
   "source": [
    "X = data.drop('CLass',axis = 1)\n",
    "y = data['Class']"
   ]
  },
  {
   "cell_type": "code",
   "execution_count": null,
   "id": "a6b30937-0737-433e-a46a-ae8de4e56d6e",
   "metadata": {},
   "outputs": [],
   "source": [
    "from sklearn.model_selection import train_test_split"
   ]
  },
  {
   "cell_type": "code",
   "execution_count": null,
   "id": "c3c5858b-879c-48d3-8ba6-cba3d2b83164",
   "metadata": {},
   "outputs": [],
   "source": []
  }
 ],
 "metadata": {
  "kernelspec": {
   "display_name": "Python 3 (ipykernel)",
   "language": "python",
   "name": "python3"
  },
  "language_info": {
   "codemirror_mode": {
    "name": "ipython",
    "version": 3
   },
   "file_extension": ".py",
   "mimetype": "text/x-python",
   "name": "python",
   "nbconvert_exporter": "python",
   "pygments_lexer": "ipython3",
   "version": "3.11.1"
  }
 },
 "nbformat": 4,
 "nbformat_minor": 5
}
